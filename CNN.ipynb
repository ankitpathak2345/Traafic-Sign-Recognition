{
 "cells": [
  {
   "cell_type": "code",
   "execution_count": 55,
   "metadata": {},
   "outputs": [],
   "source": [
    "import numpy as np"
   ]
  },
  {
   "cell_type": "code",
   "execution_count": 56,
   "metadata": {},
   "outputs": [],
   "source": [
    "import pandas as pd"
   ]
  },
  {
   "cell_type": "code",
   "execution_count": 57,
   "metadata": {},
   "outputs": [],
   "source": [
    "%matplotlib inline\n",
    "import matplotlib as mpl\n",
    "import matplotlib.pyplot as plt"
   ]
  },
  {
   "cell_type": "code",
   "execution_count": 58,
   "metadata": {},
   "outputs": [],
   "source": [
    "import tensorflow as tf"
   ]
  },
  {
   "cell_type": "code",
   "execution_count": 59,
   "metadata": {},
   "outputs": [],
   "source": [
    "from tensorflow import keras"
   ]
  },
  {
   "cell_type": "code",
   "execution_count": 60,
   "metadata": {},
   "outputs": [],
   "source": [
    "fashion_mnist=keras.datasets.fashion_mnist"
   ]
  },
  {
   "cell_type": "code",
   "execution_count": 61,
   "metadata": {},
   "outputs": [],
   "source": [
    "(X_train_full, y_train_full),(X_test,y_test)=fashion_mnist.load_data()"
   ]
  },
  {
   "cell_type": "code",
   "execution_count": 62,
   "metadata": {},
   "outputs": [],
   "source": [
    "class_name=[\"top\",\"trouser\",\"pullover\",\"DRess\",\"coat\",\"sandal\",\"shirt\",\"sneaker\",\"bag\",\"boot\"]"
   ]
  },
  {
   "cell_type": "code",
   "execution_count": 63,
   "metadata": {},
   "outputs": [],
   "source": [
    "X_train_full=X_train_full.reshape((60000,28,28,1))\n",
    "X_test=X_test.reshape((10000,28,28,1))      ##dimesional array for cnn"
   ]
  },
  {
   "cell_type": "code",
   "execution_count": 64,
   "metadata": {},
   "outputs": [],
   "source": [
    "X_train_n=X_train_full/255\n",
    "X_test_n=X_test/255"
   ]
  },
  {
   "cell_type": "code",
   "execution_count": 74,
   "metadata": {},
   "outputs": [],
   "source": [
    "X_valid,X_train = X_train_n[:5000],X_train_n[5000:]\n",
    "y_valid,y_train= y_train_full[:5000],y_train_full[5000:]\n",
    "X_test=X_test_n"
   ]
  },
  {
   "cell_type": "code",
   "execution_count": 75,
   "metadata": {},
   "outputs": [],
   "source": [
    "np.random.seed(42)\n",
    "tf.random.set_seed(42)"
   ]
  },
  {
   "cell_type": "code",
   "execution_count": 76,
   "metadata": {},
   "outputs": [],
   "source": [
    "model=keras.models.Sequential()\n",
    "model.add(keras.layers.Conv2D( 32  ,3,3 ,input_shape=(28,28,1)))\n",
    "\n",
    "\n",
    "\n"
   ]
  },
  {
   "cell_type": "code",
   "execution_count": 77,
   "metadata": {},
   "outputs": [],
   "source": [
    "model.add(keras.layers.MaxPooling2D((2,2)))"
   ]
  },
  {
   "cell_type": "code",
   "execution_count": 78,
   "metadata": {},
   "outputs": [],
   "source": [
    "model.add(keras.layers.Flatten())\n",
    "model.add(keras.layers.Dense(300,activation=\"relu\"))\n",
    "model.add(keras.layers.Dense(100,activation=\"relu\"))\n",
    "model.add(keras.layers.Dense(10,activation=\"softmax\"))"
   ]
  },
  {
   "cell_type": "code",
   "execution_count": 79,
   "metadata": {},
   "outputs": [
    {
     "name": "stdout",
     "output_type": "stream",
     "text": [
      "Model: \"sequential_18\"\n",
      "_________________________________________________________________\n",
      "Layer (type)                 Output Shape              Param #   \n",
      "=================================================================\n",
      "conv2d_2 (Conv2D)            (None, 9, 9, 32)          320       \n",
      "_________________________________________________________________\n",
      "max_pooling2d_5 (MaxPooling2 (None, 4, 4, 32)          0         \n",
      "_________________________________________________________________\n",
      "flatten_4 (Flatten)          (None, 512)               0         \n",
      "_________________________________________________________________\n",
      "dense_12 (Dense)             (None, 300)               153900    \n",
      "_________________________________________________________________\n",
      "dense_13 (Dense)             (None, 100)               30100     \n",
      "_________________________________________________________________\n",
      "dense_14 (Dense)             (None, 10)                1010      \n",
      "=================================================================\n",
      "Total params: 185,330\n",
      "Trainable params: 185,330\n",
      "Non-trainable params: 0\n",
      "_________________________________________________________________\n"
     ]
    }
   ],
   "source": [
    "model.summary()"
   ]
  },
  {
   "cell_type": "code",
   "execution_count": 82,
   "metadata": {},
   "outputs": [],
   "source": [
    "model.compile(loss=\"sparse_categorical_crossentropy\",optimizer=\"sgd\",metrics=[\"accuracy\"])"
   ]
  },
  {
   "cell_type": "code",
   "execution_count": 83,
   "metadata": {},
   "outputs": [
    {
     "name": "stdout",
     "output_type": "stream",
     "text": [
      "Epoch 1/30\n",
      "860/860 [==============================] - 8s 7ms/step - loss: 1.7124 - accuracy: 0.4512 - val_loss: 0.7495 - val_accuracy: 0.7280\n",
      "Epoch 2/30\n",
      "860/860 [==============================] - 5s 5ms/step - loss: 0.7092 - accuracy: 0.7386 - val_loss: 0.6172 - val_accuracy: 0.7780\n",
      "Epoch 3/30\n",
      "860/860 [==============================] - 5s 6ms/step - loss: 0.6372 - accuracy: 0.7627 - val_loss: 0.8096 - val_accuracy: 0.6872\n",
      "Epoch 4/30\n",
      "860/860 [==============================] - 5s 5ms/step - loss: 0.5940 - accuracy: 0.7773 - val_loss: 0.5457 - val_accuracy: 0.7988\n",
      "Epoch 5/30\n",
      "860/860 [==============================] - 5s 6ms/step - loss: 0.5752 - accuracy: 0.7812 - val_loss: 0.5335 - val_accuracy: 0.8018\n",
      "Epoch 6/30\n",
      "860/860 [==============================] - 4s 5ms/step - loss: 0.5443 - accuracy: 0.7945 - val_loss: 0.4997 - val_accuracy: 0.8172\n",
      "Epoch 7/30\n",
      "860/860 [==============================] - 4s 5ms/step - loss: 0.5242 - accuracy: 0.8056 - val_loss: 0.5003 - val_accuracy: 0.8160\n",
      "Epoch 8/30\n",
      "860/860 [==============================] - 4s 5ms/step - loss: 0.5061 - accuracy: 0.8116 - val_loss: 0.5525 - val_accuracy: 0.7818\n",
      "Epoch 9/30\n",
      "860/860 [==============================] - 5s 5ms/step - loss: 0.4958 - accuracy: 0.8153 - val_loss: 0.4761 - val_accuracy: 0.8212\n",
      "Epoch 10/30\n",
      "860/860 [==============================] - 4s 5ms/step - loss: 0.4793 - accuracy: 0.8234 - val_loss: 0.4871 - val_accuracy: 0.8134\n",
      "Epoch 11/30\n",
      "860/860 [==============================] - 4s 5ms/step - loss: 0.4653 - accuracy: 0.8263 - val_loss: 0.4482 - val_accuracy: 0.8348\n",
      "Epoch 12/30\n",
      "860/860 [==============================] - 4s 5ms/step - loss: 0.4520 - accuracy: 0.8332 - val_loss: 0.4296 - val_accuracy: 0.8422\n",
      "Epoch 13/30\n",
      "860/860 [==============================] - 4s 5ms/step - loss: 0.4414 - accuracy: 0.8356 - val_loss: 0.4365 - val_accuracy: 0.8416\n",
      "Epoch 14/30\n",
      "860/860 [==============================] - 4s 5ms/step - loss: 0.4378 - accuracy: 0.8387 - val_loss: 0.4407 - val_accuracy: 0.8316\n",
      "Epoch 15/30\n",
      "860/860 [==============================] - 4s 5ms/step - loss: 0.4273 - accuracy: 0.8421 - val_loss: 0.4424 - val_accuracy: 0.8360\n",
      "Epoch 16/30\n",
      "860/860 [==============================] - 5s 6ms/step - loss: 0.4232 - accuracy: 0.8431 - val_loss: 0.4064 - val_accuracy: 0.8478\n",
      "Epoch 17/30\n",
      "860/860 [==============================] - 5s 5ms/step - loss: 0.4096 - accuracy: 0.8479 - val_loss: 0.4840 - val_accuracy: 0.8328\n",
      "Epoch 18/30\n",
      "860/860 [==============================] - 4s 5ms/step - loss: 0.4074 - accuracy: 0.8494 - val_loss: 0.4221 - val_accuracy: 0.8436\n",
      "Epoch 19/30\n",
      "860/860 [==============================] - 4s 5ms/step - loss: 0.4094 - accuracy: 0.8490 - val_loss: 0.4171 - val_accuracy: 0.8398\n",
      "Epoch 20/30\n",
      "860/860 [==============================] - 5s 5ms/step - loss: 0.3988 - accuracy: 0.8541 - val_loss: 0.4233 - val_accuracy: 0.8444\n",
      "Epoch 21/30\n",
      "860/860 [==============================] - 5s 5ms/step - loss: 0.3953 - accuracy: 0.8539 - val_loss: 0.3882 - val_accuracy: 0.8584\n",
      "Epoch 22/30\n",
      "860/860 [==============================] - 4s 5ms/step - loss: 0.3924 - accuracy: 0.8546 - val_loss: 0.3977 - val_accuracy: 0.8488\n",
      "Epoch 23/30\n",
      "860/860 [==============================] - 5s 6ms/step - loss: 0.3861 - accuracy: 0.8580 - val_loss: 0.3789 - val_accuracy: 0.8598\n",
      "Epoch 24/30\n",
      "860/860 [==============================] - 4s 5ms/step - loss: 0.3756 - accuracy: 0.8618 - val_loss: 0.3879 - val_accuracy: 0.8520\n",
      "Epoch 25/30\n",
      "860/860 [==============================] - 4s 5ms/step - loss: 0.3794 - accuracy: 0.8598 - val_loss: 0.3815 - val_accuracy: 0.8590\n",
      "Epoch 26/30\n",
      "860/860 [==============================] - 4s 5ms/step - loss: 0.3766 - accuracy: 0.8612 - val_loss: 0.3992 - val_accuracy: 0.8518\n",
      "Epoch 27/30\n",
      "860/860 [==============================] - 5s 6ms/step - loss: 0.3666 - accuracy: 0.8649 - val_loss: 0.3830 - val_accuracy: 0.8540\n",
      "Epoch 28/30\n",
      "860/860 [==============================] - 4s 5ms/step - loss: 0.3615 - accuracy: 0.8655 - val_loss: 0.3801 - val_accuracy: 0.8592\n",
      "Epoch 29/30\n",
      "860/860 [==============================] - 4s 5ms/step - loss: 0.3624 - accuracy: 0.8642 - val_loss: 0.3657 - val_accuracy: 0.8670\n",
      "Epoch 30/30\n",
      "860/860 [==============================] - 5s 5ms/step - loss: 0.3550 - accuracy: 0.8689 - val_loss: 0.3727 - val_accuracy: 0.8596\n"
     ]
    }
   ],
   "source": [
    "model_history=model.fit(X_train,y_train,epochs=30,batch_size=64,validation_data=(X_valid,y_valid))"
   ]
  },
  {
   "cell_type": "code",
   "execution_count": 85,
   "metadata": {},
   "outputs": [
    {
     "data": {
      "image/png": "[encoded data removed]",
      "text/plain": [
       "<Figure size 576x360 with 1 Axes>"
      ]
     },
     "metadata": {
      "needs_background": "light"
     },
     "output_type": "display_data"
    }
   ],
   "source": [
    "pd.DataFrame(model_history.history).plot(figsize=(8,5))\n",
    "plt.grid(True)\n",
    "plt.gca().set_ylim(0,1)\n",
    "plt.show()"
   ]
  },
  {
   "cell_type": "code",
   "execution_count": 86,
   "metadata": {},
   "outputs": [
    {
     "name": "stdout",
     "output_type": "stream",
     "text": [
      "313/313 [==============================] - 1s 2ms/step - loss: 0.4106 - accuracy: 0.8500\n"
     ]
    }
   ],
   "source": [
    "ev=model.evaluate(X_test_n,y_test)"
   ]
  },
  {
   "cell_type": "code",
   "execution_count": 87,
   "metadata": {},
   "outputs": [
    {
     "data": {
      "text/plain": [
       "[0.41058218479156494, 0.8500000238418579]"
      ]
     },
     "execution_count": 87,
     "metadata": {},
     "output_type": "execute_result"
    }
   ],
   "source": [
    "ev"
   ]
  },
  {
   "cell_type": "code",
   "execution_count": 88,
   "metadata": {},
   "outputs": [],
   "source": [
    "X_new=X_test[:3]"
   ]
  },
  {
   "cell_type": "code",
   "execution_count": 94,
   "metadata": {},
   "outputs": [
    {
     "data": {
      "text/plain": [
       "array([9, 2, 1], dtype=int64)"
      ]
     },
     "execution_count": 94,
     "metadata": {},
     "output_type": "execute_result"
    }
   ],
   "source": [
    "y_pred=model.predict_classes(X_new)\n",
    "y_pred"
   ]
  },
  {
   "cell_type": "code",
   "execution_count": 95,
   "metadata": {},
   "outputs": [
    {
     "data": {
      "text/plain": [
       "array([9, 2, 1], dtype=uint8)"
      ]
     },
     "execution_count": 95,
     "metadata": {},
     "output_type": "execute_result"
    }
   ],
   "source": [
    "y_test[:3]"
   ]
  },
  {
   "cell_type": "code",
   "execution_count": 96,
   "metadata": {},
   "outputs": [
    {
     "name": "stdout",
     "output_type": "stream",
     "text": [
      "AxesImage(54,36;334.8x217.44)\n"
     ]
    },
    {
     "data": {
      "image/png": "[encoded data removed]",
      "text/plain": [
       "<Figure size 432x288 with 1 Axes>"
      ]
     },
     "metadata": {
      "needs_background": "light"
     },
     "output_type": "display_data"
    }
   ],
   "source": [
    "print(plt.imshow(X_test[0].reshape((28,28))))"
   ]
  },
  {
   "cell_type": "code",
   "execution_count": 99,
   "metadata": {},
   "outputs": [
    {
     "data": {
      "text/plain": [
       "<function tensorflow.python.keras.backend.clear_session()>"
      ]
     },
     "execution_count": 99,
     "metadata": {},
     "output_type": "execute_result"
    }
   ],
   "source": [
    "keras.backend.clear_session"
   ]
  },
  {
   "cell_type": "code",
   "execution_count": 98,
   "metadata": {},
   "outputs": [
    {
     "ename": "SyntaxError",
     "evalue": "invalid syntax (<ipython-input-98-c7ed6ae4a18a>, line 1)",
     "output_type": "error",
     "traceback": [
      "\u001b[1;36m  File \u001b[1;32m\"<ipython-input-98-c7ed6ae4a18a>\"\u001b[1;36m, line \u001b[1;32m1\u001b[0m\n\u001b[1;33m    def model\u001b[0m\n\u001b[1;37m             ^\u001b[0m\n\u001b[1;31mSyntaxError\u001b[0m\u001b[1;31m:\u001b[0m invalid syntax\n"
     ]
    }
   ],
   "source": [
    "def model"
   ]
  },
  {
   "cell_type": "code",
   "execution_count": null,
   "metadata": {},
   "outputs": [],
   "source": []
  }
 ],
 "metadata": {
  "kernelspec": {
   "display_name": "Python 3",
   "language": "python",
   "name": "python3"
  },
  "language_info": {
   "codemirror_mode": {
    "name": "ipython",
    "version": 3
   },
   "file_extension": ".py",
   "mimetype": "text/x-python",
   "name": "python",
   "nbconvert_exporter": "python",
   "pygments_lexer": "ipython3",
   "version": "3.8.8"
  }
 },
 "nbformat": 4,
 "nbformat_minor": 4
}
